{
 "cells": [
  {
   "cell_type": "code",
   "execution_count": null,
   "metadata": {},
   "outputs": [],
   "source": [
    "from __future__ import division, print_function\n",
    "import matplotlib.pyplot as plt\n",
    "import numpy as np\n",
    "import seaborn as sns\n",
    "import bilby\n",
    "%matplotlib inline"
   ]
  },
  {
   "cell_type": "markdown",
   "metadata": {},
   "source": [
    "## This notebook will show how to use the PTMCMCSampler, in particular this will highlight how to add custom jump proposals"
   ]
  },
  {
   "cell_type": "markdown",
   "metadata": {},
   "source": [
    "## create 150914 like injection"
   ]
  },
  {
   "cell_type": "code",
   "execution_count": null,
   "metadata": {},
   "outputs": [],
   "source": [
    "# Set the duration and sampling frequency of the data segment that we're\n",
    "# going to inject the signal into\n",
    "duration = 4.\n",
    "sampling_frequency = 2048.\n",
    "\n",
    "# Specify the output directory and the name of the simulation.\n",
    "outdir = 'outdir'\n",
    "label = 'basic_tutorial4'\n",
    "bilby.core.utils.setup_logger(outdir=outdir, label=label)\n",
    "\n",
    "# Set up a random seed for result reproducibility.  This is optional!\n",
    "np.random.seed(88170235)\n",
    "\n",
    "# We are going to inject a binary black hole waveform.  We first establish a\n",
    "# dictionary of parameters that includes all of the different waveform\n",
    "# parameters, including masses of the two black holes (mass_1, mass_2),\n",
    "# spins of both black holes (a, tilt, phi), etc.\n",
    "injection_parameters = dict(\n",
    "    mass_1=36., mass_2=29., a_1=0.4, a_2=0.3, tilt_1=0.5, tilt_2=1.0,\n",
    "    phi_12=1.7, phi_jl=0.3, luminosity_distance=2000., theta_jn=0.4, psi=2.659,\n",
    "    phase=1.3, geocent_time=1126259642.413, ra=1.375, dec=-1.2108)\n",
    "\n",
    "# Fixed arguments passed into the source model\n",
    "waveform_arguments = dict(waveform_approximant='IMRPhenomP',\n",
    "                          reference_frequency=50., minimum_frequency=20.)"
   ]
  },
  {
   "cell_type": "markdown",
   "metadata": {},
   "source": [
    "## Inject into data"
   ]
  },
  {
   "cell_type": "code",
   "execution_count": null,
   "metadata": {},
   "outputs": [],
   "source": [
    "# Create the waveform_generator using a LAL BinaryBlackHole source function\n",
    "waveform_generator = bilby.gw.WaveformGenerator(\n",
    "    duration=duration, sampling_frequency=sampling_frequency,\n",
    "    frequency_domain_source_model=bilby.gw.source.lal_binary_black_hole,\n",
    "    waveform_arguments=waveform_arguments)\n",
    "\n",
    "# Set up interferometers.  In this case we'll use two interferometers\n",
    "# (LIGO-Hanford (H1), LIGO-Livingston (L1). These default to their design\n",
    "# sensitivity\n",
    "\n",
    "ifos = bilby.gw.detector.InterferometerList(['H1', 'L1'])\n",
    "ifos.set_strain_data_from_power_spectral_densities(\n",
    "    sampling_frequency=sampling_frequency, duration=duration,\n",
    "    start_time=injection_parameters['geocent_time'] - 3)\n",
    "ifos.inject_signal(waveform_generator=waveform_generator,\n",
    "                   parameters=injection_parameters)"
   ]
  },
  {
   "cell_type": "markdown",
   "metadata": {},
   "source": [
    "### For simplicity, we will fix all parameters here to the injected value and only vary over mass1 and mass2,"
   ]
  },
  {
   "cell_type": "code",
   "execution_count": null,
   "metadata": {},
   "outputs": [],
   "source": [
    "priors = injection_parameters.copy()\n",
    "priors['mass_1'] = bilby.prior.Uniform(name='mass_1', minimum=10, maximum=80, unit=r'$M_{\\\\odot}$')\n",
    "priors['mass_2'] = bilby.prior.Uniform(name='mass_1', minimum=10, maximum=80, unit=r'$M_{\\\\odot}$')"
   ]
  },
  {
   "cell_type": "markdown",
   "metadata": {},
   "source": [
    "## Here we create arbitrary jump proposals. This will highlight the necessary features of a jump proposal in ptmcmc. That is it takes the current position, x, then outputs a new position , q,  and the jump probability i.e. p(x -> q). These will then be passed to the standard metropolis hastings condition. \n",
    "## The two proposals below are probably not very good ones, ideally we would use proposals based upon our kmowledge of the problem/parameter space. In general for these proposals lqxy will certainly not be 0 "
   ]
  },
  {
   "cell_type": "code",
   "execution_count": null,
   "metadata": {},
   "outputs": [],
   "source": [
    "class UniformJump(object):\n",
    "    def __init__(self, pmin, pmax):\n",
    "        \"\"\"Draw random parameters from pmin, pmax\"\"\"\n",
    "        self.pmin = pmin\n",
    "        self.pmax = pmax\n",
    "        \n",
    "    def unjump(self, x, it, beta):\n",
    "        \"\"\" \n",
    "        Function prototype must read in parameter vector x,\n",
    "        sampler iteration number it, and inverse temperature beta\n",
    "        \"\"\"\n",
    "        # log of forward-backward jump probability\n",
    "        lqxy = 0\n",
    "        \n",
    "        # uniformly drawn parameters\n",
    "        q = np.random.uniform(self.pmin, self.pmax, len(x))\n",
    "        return q, lqxy"
   ]
  },
  {
   "cell_type": "code",
   "execution_count": null,
   "metadata": {},
   "outputs": [],
   "source": [
    "class NormJump(object):\n",
    "    def __init__(self, step_size):\n",
    "        \"\"\"Draw random parameters from pmin, pmax\"\"\"\n",
    "        self.step_size = step_size\n",
    "        \n",
    "    def normjump(self, x, it, beta):\n",
    "        \"\"\" \n",
    "        Function prototype must read in parameter vector x,\n",
    "        sampler iteration number it, and inverse temperature beta\n",
    "        \"\"\"\n",
    "        # log of forward-backward jump probability. this is only zero for simple examples.\n",
    "        lqxy = 0\n",
    "        \n",
    "        # uniformly drawn parameters\n",
    "        q = np.random.multivariate_normal(x , self.step_size * np.eye(len(x)) , 1)\n",
    "        return q[0], lqxy"
   ]
  },
  {
   "cell_type": "markdown",
   "metadata": {},
   "source": [
    "### Below we create a dictionary containing our jump proposals and the relative weight of that proposal in the proposal cycle, these are then passed to bilby.run_sampler under the keyword argument custom_proposals = "
   ]
  },
  {
   "cell_type": "code",
   "execution_count": null,
   "metadata": {},
   "outputs": [],
   "source": [
    "normjump = NormJump(1)\n",
    "normweight = 5\n",
    "ujump = UniformJump(20, 40)\n",
    "uweight = 1 \n",
    "custom = {'uniform': [ujump.unjump , uweight],\n",
    "          'normal': [normjump.normjump , normweight]}"
   ]
  },
  {
   "cell_type": "code",
   "execution_count": null,
   "metadata": {},
   "outputs": [],
   "source": [
    "# Initialise the likelihood by passing in the interferometer data (ifos) and\n",
    "# the waveoform generator\n",
    "likelihood = bilby.gw.GravitationalWaveTransient(\n",
    "    interferometers=ifos,waveform_generator=waveform_generator)\n",
    "result = bilby.run_sampler(\n",
    "    likelihood=likelihood, priors=priors, sampler= 'PTMCMCsampler',custom_proposals = custom , Niter = 10**4 )"
   ]
  },
  {
   "cell_type": "code",
   "execution_count": null,
   "metadata": {},
   "outputs": [],
   "source": [
    "result.plot_corner()"
   ]
  },
  {
   "cell_type": "markdown",
   "metadata": {},
   "source": [
    "### PTMCMC produces the acceptance rate for each of the proposals (including the ones built in). This is taken as an average at a specified checkpoint. This is one (acceptnace rate is certainly not the only/even the best metric here. Think exploration v exploitation problem ) indicators of whether our jump proposal is a good one"
   ]
  },
  {
   "cell_type": "code",
   "execution_count": null,
   "metadata": {},
   "outputs": [],
   "source": [
    "sampler_meta = result.meta_data['sampler_meta']\n",
    "jumps = sampler_meta['proposals']"
   ]
  },
  {
   "cell_type": "code",
   "execution_count": null,
   "metadata": {},
   "outputs": [],
   "source": [
    "plt.figure()\n",
    "plt.xlabel('epoch')\n",
    "plt.ylabel('acceptance rate')\n",
    "for i,proposal in enumerate(jumps): \n",
    "    plt.plot(jumps[proposal] , label = proposal)\n",
    "plt.legend(loc='best', frameon=True)"
   ]
  },
  {
   "cell_type": "markdown",
   "metadata": {},
   "source": [
    "## We can generate the 1d chains for each of the parameters too and the likelihood of those points on the chain"
   ]
  },
  {
   "cell_type": "code",
   "execution_count": null,
   "metadata": {},
   "outputs": [],
   "source": [
    "m2 = result.posterior.mass_2.values\n",
    "m1 = result.posterior.mass_1.values\n",
    "\n",
    "fig, ax = plt.subplots(nrows = 2 , ncols =1 , sharex = True , figsize = (8,8))\n",
    "ax[0].plot(m1 , 'o', label = 'm1' )\n",
    "ax[0].plot(m2 , 'o', label = 'm2' )\n",
    "ax[0].set_ylabel(r'$M_{\\odot}$')\n",
    "ax[0].legend(loc = 'best' , frameon = True , fontsize = 12)\n",
    "ax[1].plot(result.log_likelihood_evaluations)\n",
    "ax[1].set_ylabel(r'$\\mathcal{L}$')\n",
    "ax[1].set_xlabel('iterations')\n",
    "ax[1].set_xscale('log')"
   ]
  },
  {
   "cell_type": "code",
   "execution_count": null,
   "metadata": {},
   "outputs": [],
   "source": []
  }
 ],
 "metadata": {},
 "nbformat": 4,
 "nbformat_minor": 2
}
