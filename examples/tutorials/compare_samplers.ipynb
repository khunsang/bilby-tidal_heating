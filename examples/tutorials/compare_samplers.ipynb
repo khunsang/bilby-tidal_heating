{
 "cells": [
  {
   "cell_type": "markdown",
   "metadata": {},
   "source": [
    "# Compare samplers\n",
    "\n",
    "In this notebook, we'll compare the different samplers implemented in `bilby`. As of this version, we don't compare the outputs, only how to run them and the timings for their default setup.\n",
    "\n",
    "## Setup"
   ]
  },
  {
   "cell_type": "code",
   "execution_count": null,
   "metadata": {
    "execution": {
     "iopub.execute_input": "2021-02-05T22:05:40.710069Z",
     "iopub.status.busy": "2021-02-05T22:05:40.709587Z",
     "iopub.status.idle": "2021-02-05T22:05:43.017567Z",
     "shell.execute_reply": "2021-02-05T22:05:43.018795Z"
    }
   },
   "outputs": [],
   "source": [
    "import numpy as np\n",
    "import pylab as plt\n",
    "\n",
    "%load_ext autoreload\n",
    "%autoreload 2\n",
    "\n",
    "import bilby\n",
    "\n",
    "bilby.utils.setup_logger()\n",
    "\n",
    "time_duration = 1.         # set the signal duration (seconds)\n",
    "sampling_frequency = 4096. # set the data sampling frequency (Hz)\n",
    "\n",
    "injection_parameters = dict(\n",
    "chirp_mass=36.,                          # detector frame (redshifted) primary mass (solar masses)\n",
    "mass_ratio=0.9,                          # detector frame (redshifted) secondary mass (solar masses)\n",
    "a_1=0,                               # primary dimensionless spin magnitude\n",
    "a_2=0,                               # secondary dimensionless spin magnitude\n",
    "tilt_1=0,                            # polar angle between primary spin and the orbital angular momentum (radians)\n",
    "tilt_2=0,                            # polar angle between secondary spin and the orbital angular momentum \n",
    "phi_12=0,                            # azimuthal angle between primary and secondary spin (radians)\n",
    "phi_jl=0,                            # azimuthal angle between total angular momentum and orbital angular momentum (radians)\n",
    "luminosity_distance=100.,            # luminosity distance to source (Mpc)\n",
    "theta_jn=0.4,                        # angle between the total angular momentum (both spin and orbital) and the line of sight\n",
    "phase=1.3,                           # phase (radians)\n",
    "ra=1.375,                            # source right ascension (radians)\n",
    "dec=-1.2108,                         # source declination (radians)\n",
    "geocent_time=1126259642.413,         # reference time at geocentre (time of coalescence or peak amplitude) (GPS seconds)\n",
    "psi=2.659                            # gravitational wave polarisation angle\n",
    ")\n",
    "\n",
    "\n",
    "# initialise the waveform generator\n",
    "waveform_generator = bilby.gw.waveform_generator.WaveformGenerator(\n",
    "    sampling_frequency=sampling_frequency,\n",
    "    duration=time_duration,\n",
    "    frequency_domain_source_model=bilby.gw.source.lal_binary_black_hole,\n",
    "    parameters=injection_parameters)\n",
    "\n",
    "# generate a frequency-domain waveform\n",
    "hf_signal = waveform_generator.frequency_domain_strain()\n",
    "\n",
    "# initialise a single interferometer representing LIGO Hanford\n",
    "H1 = bilby.gw.detector.get_empty_interferometer('H1')\n",
    "# set the strain data at the interferometer\n",
    "H1.set_strain_data_from_power_spectral_density(sampling_frequency=sampling_frequency, duration=time_duration)\n",
    "# inject the gravitational wave signal into the interferometer model\n",
    "H1.inject_signal(injection_polarizations=hf_signal, parameters=injection_parameters)\n",
    "\n",
    "IFOs = [H1]\n",
    "\n",
    "# compute the likelihood on each of the signal parameters\n",
    "likelihood = bilby.gw.likelihood.GravitationalWaveTransient(IFOs, waveform_generator)"
   ]
  },
  {
   "cell_type": "markdown",
   "metadata": {},
   "source": [
    "## Prior\n",
    "\n",
    "For this test, we will simply search of the sky position, setting the other parameters to their simulated values."
   ]
  },
  {
   "cell_type": "code",
   "execution_count": null,
   "metadata": {
    "execution": {
     "iopub.execute_input": "2021-02-05T22:05:43.025484Z",
     "iopub.status.busy": "2021-02-05T22:05:43.024858Z",
     "iopub.status.idle": "2021-02-05T22:05:43.101096Z",
     "shell.execute_reply": "2021-02-05T22:05:43.100588Z"
    }
   },
   "outputs": [],
   "source": [
    "# set the priors on each of the injection parameters to be a delta function at their given value\n",
    "priors = bilby.gw.prior.BBHPriorDict()\n",
    "for key in injection_parameters.keys():\n",
    "    priors[key] = injection_parameters[key]\n",
    "\n",
    "# now reset the priors on the sky position coordinates in order to conduct a sky position search\n",
    "priors['ra'] = bilby.prior.Uniform(0, 2*np.pi, 'ra')\n",
    "priors['dec'] = bilby.prior.Cosine(name='dec', minimum=-np.pi/2, maximum=np.pi/2)"
   ]
  },
  {
   "cell_type": "markdown",
   "metadata": {},
   "source": [
    "## PyMultinest"
   ]
  },
  {
   "cell_type": "code",
   "execution_count": null,
   "metadata": {
    "execution": {
     "iopub.execute_input": "2021-02-05T22:05:43.105117Z",
     "iopub.status.busy": "2021-02-05T22:05:43.104639Z",
     "iopub.status.idle": "2021-02-05T22:05:43.272793Z",
     "shell.execute_reply": "2021-02-05T22:05:43.272156Z"
    }
   },
   "outputs": [],
   "source": [
    "%%time \n",
    "result = bilby.core.sampler.run_sampler(\n",
    "    likelihood, priors=priors, sampler='pymultinest', label='pymultinest',\n",
    "    npoints=2000, verbose=False, resume=False)\n",
    "fig = result.plot_corner(save=False)\n",
    "# show the corner plot\n",
    "plt.show()\n",
    "print(result)"
   ]
  },
  {
   "cell_type": "markdown",
   "metadata": {},
   "source": [
    "## dynesty"
   ]
  },
  {
   "cell_type": "code",
   "execution_count": null,
   "metadata": {
    "execution": {
     "iopub.execute_input": "2021-02-05T22:05:43.276181Z",
     "iopub.status.busy": "2021-02-05T22:05:43.275690Z",
     "iopub.status.idle": "2021-02-05T22:06:44.384185Z",
     "shell.execute_reply": "2021-02-05T22:06:44.384572Z"
    }
   },
   "outputs": [],
   "source": [
    "%%time \n",
    "result = bilby.core.sampler.run_sampler(\n",
    "    likelihood, priors=priors, sampler='dynesty', label='dynesty',\n",
    "    bound='multi', sample='rwalk', npoints=200, walks=1, verbose=False,\n",
    "    update_interval=100)\n",
    "fig = result.plot_corner(save=False)\n",
    "# show the corner plot\n",
    "plt.show()\n",
    "print(result)"
   ]
  },
  {
   "cell_type": "markdown",
   "metadata": {},
   "source": [
    "## Dynamic Nested Sampling (Dynesty)\n",
    "\n",
    "See [the dynesty docs](http://dynesty.readthedocs.io/en/latest/dynamic.html#). Essentially, this methods improves the posterior estimation over that of standard nested sampling."
   ]
  },
  {
   "cell_type": "code",
   "execution_count": null,
   "metadata": {
    "execution": {
     "iopub.execute_input": "2021-02-05T22:06:44.389121Z",
     "iopub.status.busy": "2021-02-05T22:06:44.388707Z",
     "iopub.status.idle": "2021-02-05T22:07:12.688768Z",
     "shell.execute_reply": "2021-02-05T22:07:12.689099Z"
    }
   },
   "outputs": [],
   "source": [
    "%%time \n",
    "result = bilby.core.sampler.run_sampler(\n",
    "    likelihood, priors=priors, sampler='dynesty', label='dynesty_dynamic',\n",
    "    bound='multi', nlive=250, sample='unif', verbose=True,\n",
    "    update_interval=100, dynamic=True)\n",
    "fig = result.plot_corner(save=False)\n",
    "# show the corner plot\n",
    "plt.show()\n",
    "print(result)"
   ]
  },
  {
   "cell_type": "markdown",
   "metadata": {},
   "source": [
    "## ptemcee"
   ]
  },
  {
   "cell_type": "code",
   "execution_count": null,
   "metadata": {
    "execution": {
     "iopub.execute_input": "2021-02-05T22:07:12.692452Z",
     "iopub.status.busy": "2021-02-05T22:07:12.692016Z",
     "iopub.status.idle": "2021-02-05T22:12:28.559510Z",
     "shell.execute_reply": "2021-02-05T22:12:28.560201Z"
    }
   },
   "outputs": [],
   "source": [
    "%%time \n",
    "result = bilby.core.sampler.run_sampler(\n",
    "    likelihood, priors=priors, sampler='ptemcee', label='ptemcee',\n",
    "    nwalkers=100, nsteps=200, nburn=100, ntemps=2,\n",
    "    tqdm='tqdm_notebook')\n",
    "fig = result.plot_corner(save=False)\n",
    "# show the corner plot\n",
    "plt.show()\n",
    "print(result)"
   ]
  }
 ],
 "metadata": {},
 "nbformat": 4,
 "nbformat_minor": 2
}
