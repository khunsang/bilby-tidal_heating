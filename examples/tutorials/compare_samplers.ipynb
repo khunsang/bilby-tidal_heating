{
 "cells": [
  {
   "cell_type": "markdown",
   "metadata": {},
   "source": [
    "# Compare samplers\n",
    "\n",
    "In this notebook, we'll compare the different samplers implemented in `tupak`. As of this version, we don't compare the outputs, only how to run them and the timings for their default setup.\n",
    "\n",
    "## Setup"
   ]
  },
  {
   "cell_type": "code",
   "execution_count": null,
   "metadata": {},
   "outputs": [],
   "source": [
    "import numpy as np\n",
    "import pylab as plt\n",
    "\n",
    "%load_ext autoreload\n",
    "%autoreload 2\n",
    "\n",
    "import tupak\n",
    "\n",
    "tupak.utils.setup_logger()\n",
    "\n",
    "time_duration = 1.\n",
    "sampling_frequency = 4096.\n",
    "\n",
    "injection_parameters = dict(mass_1=36., mass_2=29., a_1=0, a_2=0, tilt_1=0, tilt_2=0, phi_12=0, phi_jl=0,\n",
    "                            luminosity_distance=100., iota=0.4, phase=1.3, waveform_approximant='IMRPhenomPv2',\n",
    "                            reference_frequency=50., ra=1.375, dec=-1.2108, geocent_time=1126259642.413,\n",
    "                            psi=2.659)\n",
    "\n",
    "\n",
    "waveform_generator = tupak.waveform_generator.WaveformGenerator(\n",
    "    sampling_frequency=sampling_frequency,\n",
    "    time_duration=time_duration,\n",
    "    frequency_domain_source_model=tupak.source.lal_binary_black_hole,\n",
    "    parameters=injection_parameters)\n",
    "\n",
    "hf_signal = waveform_generator.frequency_domain_strain()\n",
    "\n",
    "H1 = tupak.detector.get_empty_interferometer('H1')\n",
    "H1.set_data(sampling_frequency=sampling_frequency, duration=time_duration,\n",
    "            from_power_spectral_density=True)\n",
    "H1.inject_signal(waveform_polarizations=hf_signal, parameters=injection_parameters)\n",
    "\n",
    "IFOs = [H1]\n",
    "\n",
    "likelihood = tupak.likelihood.GravitationalWaveTransient(IFOs, waveform_generator)"
   ]
  },
  {
   "cell_type": "markdown",
   "metadata": {},
   "source": [
    "## Prior\n",
    "\n",
    "For this test, we will simply search of the sky position, setting the other parameters to their simulated values."
   ]
  },
  {
   "cell_type": "code",
   "execution_count": null,
   "metadata": {},
   "outputs": [],
   "source": [
    "priors = tupak.prior.fill_priors(injection_parameters, likelihood)\n",
    "priors['ra'] = tupak.prior.Uniform(0, 2*np.pi, 'ra')\n",
    "priors['dec'] = tupak.prior.Uniform(-np.pi/2, np.pi/2, 'dec')"
   ]
  },
  {
   "cell_type": "markdown",
   "metadata": {},
   "source": [
    "## PyMultinest"
   ]
  },
  {
   "cell_type": "code",
   "execution_count": null,
   "metadata": {
    "scrolled": false
   },
   "outputs": [],
   "source": [
    "%%time \n",
    "result = tupak.sampler.run_sampler(\n",
    "    likelihood, priors=priors, sampler='pymultinest', label='pymultinest',\n",
    "    npoints=200, verbose=False, resume=False)\n",
    "fig = result.plot_corner(save=False)\n",
    "plt.show()\n",
    "print(result)"
   ]
  },
  {
   "cell_type": "markdown",
   "metadata": {},
   "source": [
    "# dynesty"
   ]
  },
  {
   "cell_type": "code",
   "execution_count": null,
   "metadata": {},
   "outputs": [],
   "source": [
    "%%time \n",
    "result = tupak.sampler.run_sampler(\n",
    "    likelihood, priors=priors, sampler='dynesty', label='dynesty',\n",
    "    bound='multi', sample='rwalk', npoints=200, walks=1, verbose=False,\n",
    "    update_interval=100)\n",
    "fig = result.plot_corner(save=False)\n",
    "plt.show()\n",
    "print(result)"
   ]
  },
  {
   "cell_type": "markdown",
   "metadata": {},
   "source": [
    "# Dynamic Nested Sampling (Dynesty)\n",
    "\n",
    "See [the dynesty docs](http://dynesty.readthedocs.io/en/latest/dynamic.html#). Essentially, this methods improves the posterior estimation over that of standard nested sampling."
   ]
  },
  {
   "cell_type": "code",
   "execution_count": null,
   "metadata": {},
   "outputs": [],
   "source": [
    "%%time \n",
    "result = tupak.sampler.run_sampler(\n",
    "    likelihood, priors=priors, sampler='dynesty', label='dynesty_dynamic',\n",
    "    bound='multi', nlive=250, sample='unif', verbose=True,\n",
    "    update_interval=100, dynamic=True)\n",
    "fig = result.plot_corner(save=False)\n",
    "plt.show()\n",
    "print(result)"
   ]
  },
  {
   "cell_type": "markdown",
   "metadata": {},
   "source": [
    "# ptemcee"
   ]
  },
  {
   "cell_type": "code",
   "execution_count": null,
   "metadata": {},
   "outputs": [],
   "source": [
    "%%time \n",
    "result = tupak.sampler.run_sampler(\n",
    "    likelihood, priors=priors, sampler='ptemcee', label='ptemcee',\n",
    "    nwalkers=100, nsteps=200, nburn=100, ntemps=2,\n",
    "    tqdm='tqdm_notebook')\n",
    "fig = result.plot_corner(save=False)\n",
    "plt.show()\n",
    "print(result)"
   ]
  }
 ],
 "metadata": {
  "kernelspec": {
   "display_name": "Python 3",
   "language": "python",
   "name": "python3"
  },
  "language_info": {
   "codemirror_mode": {
    "name": "ipython",
    "version": 3
   },
   "file_extension": ".py",
   "mimetype": "text/x-python",
   "name": "python",
   "nbconvert_exporter": "python",
   "pygments_lexer": "ipython3",
   "version": "3.6.5"
  }
 },
 "nbformat": 4,
 "nbformat_minor": 2
}
